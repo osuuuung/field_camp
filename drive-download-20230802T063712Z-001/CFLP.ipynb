{
 "cells": [
  {
   "cell_type": "code",
   "execution_count": 39,
   "id": "679b7db7",
   "metadata": {
    "scrolled": true
   },
   "outputs": [],
   "source": [
    "# !pip install pulp\n",
    "# !pip install tqdm"
   ]
  },
  {
   "cell_type": "code",
   "execution_count": 40,
   "id": "2f00fccc",
   "metadata": {},
   "outputs": [],
   "source": [
    "import pulp \n",
    "from pulp import *\n",
    "import pandas as pd\n",
    "import math\n",
    "from tqdm.notebook import tqdm\n"
   ]
  },
  {
   "cell_type": "code",
   "execution_count": 41,
   "id": "bb1f0966",
   "metadata": {},
   "outputs": [
    {
     "ename": "UnicodeDecodeError",
     "evalue": "'utf-8' codec can't decode byte 0xbc in position 0: invalid start byte",
     "output_type": "error",
     "traceback": [
      "\u001b[1;31m---------------------------------------------------------------------------\u001b[0m",
      "\u001b[1;31mUnicodeDecodeError\u001b[0m                        Traceback (most recent call last)",
      "\u001b[1;32m~\\AppData\\Local\\Temp\\ipykernel_8292\\3497097959.py\u001b[0m in \u001b[0;36m<module>\u001b[1;34m\u001b[0m\n\u001b[0;32m      1\u001b[0m \u001b[1;31m# data와 target이 어느 동 소속인지를 나타내는 데이터 불러오기\u001b[0m\u001b[1;33m\u001b[0m\u001b[1;33m\u001b[0m\u001b[0m\n\u001b[1;32m----> 2\u001b[1;33m \u001b[0mdemands\u001b[0m \u001b[1;33m=\u001b[0m \u001b[0mpd\u001b[0m\u001b[1;33m.\u001b[0m\u001b[0mread_csv\u001b[0m\u001b[1;33m(\u001b[0m\u001b[1;34m'수요지 행정동 분류.csv'\u001b[0m\u001b[1;33m)\u001b[0m\u001b[1;33m\u001b[0m\u001b[1;33m\u001b[0m\u001b[0m\n\u001b[0m\u001b[0;32m      3\u001b[0m \u001b[0mfacilities\u001b[0m \u001b[1;33m=\u001b[0m \u001b[0mpd\u001b[0m\u001b[1;33m.\u001b[0m\u001b[0mread_csv\u001b[0m\u001b[1;33m(\u001b[0m\u001b[1;34m'target 행정동 분류.csv'\u001b[0m\u001b[1;33m)\u001b[0m\u001b[1;33m\u001b[0m\u001b[1;33m\u001b[0m\u001b[0m\n",
      "\u001b[1;32m~\\anaconda3\\lib\\site-packages\\pandas\\util\\_decorators.py\u001b[0m in \u001b[0;36mwrapper\u001b[1;34m(*args, **kwargs)\u001b[0m\n\u001b[0;32m    309\u001b[0m                     \u001b[0mstacklevel\u001b[0m\u001b[1;33m=\u001b[0m\u001b[0mstacklevel\u001b[0m\u001b[1;33m,\u001b[0m\u001b[1;33m\u001b[0m\u001b[1;33m\u001b[0m\u001b[0m\n\u001b[0;32m    310\u001b[0m                 )\n\u001b[1;32m--> 311\u001b[1;33m             \u001b[1;32mreturn\u001b[0m \u001b[0mfunc\u001b[0m\u001b[1;33m(\u001b[0m\u001b[1;33m*\u001b[0m\u001b[0margs\u001b[0m\u001b[1;33m,\u001b[0m \u001b[1;33m**\u001b[0m\u001b[0mkwargs\u001b[0m\u001b[1;33m)\u001b[0m\u001b[1;33m\u001b[0m\u001b[1;33m\u001b[0m\u001b[0m\n\u001b[0m\u001b[0;32m    312\u001b[0m \u001b[1;33m\u001b[0m\u001b[0m\n\u001b[0;32m    313\u001b[0m         \u001b[1;32mreturn\u001b[0m \u001b[0mwrapper\u001b[0m\u001b[1;33m\u001b[0m\u001b[1;33m\u001b[0m\u001b[0m\n",
      "\u001b[1;32m~\\anaconda3\\lib\\site-packages\\pandas\\io\\parsers\\readers.py\u001b[0m in \u001b[0;36mread_csv\u001b[1;34m(filepath_or_buffer, sep, delimiter, header, names, index_col, usecols, squeeze, prefix, mangle_dupe_cols, dtype, engine, converters, true_values, false_values, skipinitialspace, skiprows, skipfooter, nrows, na_values, keep_default_na, na_filter, verbose, skip_blank_lines, parse_dates, infer_datetime_format, keep_date_col, date_parser, dayfirst, cache_dates, iterator, chunksize, compression, thousands, decimal, lineterminator, quotechar, quoting, doublequote, escapechar, comment, encoding, encoding_errors, dialect, error_bad_lines, warn_bad_lines, on_bad_lines, delim_whitespace, low_memory, memory_map, float_precision, storage_options)\u001b[0m\n\u001b[0;32m    676\u001b[0m     \u001b[0mkwds\u001b[0m\u001b[1;33m.\u001b[0m\u001b[0mupdate\u001b[0m\u001b[1;33m(\u001b[0m\u001b[0mkwds_defaults\u001b[0m\u001b[1;33m)\u001b[0m\u001b[1;33m\u001b[0m\u001b[1;33m\u001b[0m\u001b[0m\n\u001b[0;32m    677\u001b[0m \u001b[1;33m\u001b[0m\u001b[0m\n\u001b[1;32m--> 678\u001b[1;33m     \u001b[1;32mreturn\u001b[0m \u001b[0m_read\u001b[0m\u001b[1;33m(\u001b[0m\u001b[0mfilepath_or_buffer\u001b[0m\u001b[1;33m,\u001b[0m \u001b[0mkwds\u001b[0m\u001b[1;33m)\u001b[0m\u001b[1;33m\u001b[0m\u001b[1;33m\u001b[0m\u001b[0m\n\u001b[0m\u001b[0;32m    679\u001b[0m \u001b[1;33m\u001b[0m\u001b[0m\n\u001b[0;32m    680\u001b[0m \u001b[1;33m\u001b[0m\u001b[0m\n",
      "\u001b[1;32m~\\anaconda3\\lib\\site-packages\\pandas\\io\\parsers\\readers.py\u001b[0m in \u001b[0;36m_read\u001b[1;34m(filepath_or_buffer, kwds)\u001b[0m\n\u001b[0;32m    573\u001b[0m \u001b[1;33m\u001b[0m\u001b[0m\n\u001b[0;32m    574\u001b[0m     \u001b[1;31m# Create the parser.\u001b[0m\u001b[1;33m\u001b[0m\u001b[1;33m\u001b[0m\u001b[0m\n\u001b[1;32m--> 575\u001b[1;33m     \u001b[0mparser\u001b[0m \u001b[1;33m=\u001b[0m \u001b[0mTextFileReader\u001b[0m\u001b[1;33m(\u001b[0m\u001b[0mfilepath_or_buffer\u001b[0m\u001b[1;33m,\u001b[0m \u001b[1;33m**\u001b[0m\u001b[0mkwds\u001b[0m\u001b[1;33m)\u001b[0m\u001b[1;33m\u001b[0m\u001b[1;33m\u001b[0m\u001b[0m\n\u001b[0m\u001b[0;32m    576\u001b[0m \u001b[1;33m\u001b[0m\u001b[0m\n\u001b[0;32m    577\u001b[0m     \u001b[1;32mif\u001b[0m \u001b[0mchunksize\u001b[0m \u001b[1;32mor\u001b[0m \u001b[0miterator\u001b[0m\u001b[1;33m:\u001b[0m\u001b[1;33m\u001b[0m\u001b[1;33m\u001b[0m\u001b[0m\n",
      "\u001b[1;32m~\\anaconda3\\lib\\site-packages\\pandas\\io\\parsers\\readers.py\u001b[0m in \u001b[0;36m__init__\u001b[1;34m(self, f, engine, **kwds)\u001b[0m\n\u001b[0;32m    930\u001b[0m \u001b[1;33m\u001b[0m\u001b[0m\n\u001b[0;32m    931\u001b[0m         \u001b[0mself\u001b[0m\u001b[1;33m.\u001b[0m\u001b[0mhandles\u001b[0m\u001b[1;33m:\u001b[0m \u001b[0mIOHandles\u001b[0m \u001b[1;33m|\u001b[0m \u001b[1;32mNone\u001b[0m \u001b[1;33m=\u001b[0m \u001b[1;32mNone\u001b[0m\u001b[1;33m\u001b[0m\u001b[1;33m\u001b[0m\u001b[0m\n\u001b[1;32m--> 932\u001b[1;33m         \u001b[0mself\u001b[0m\u001b[1;33m.\u001b[0m\u001b[0m_engine\u001b[0m \u001b[1;33m=\u001b[0m \u001b[0mself\u001b[0m\u001b[1;33m.\u001b[0m\u001b[0m_make_engine\u001b[0m\u001b[1;33m(\u001b[0m\u001b[0mf\u001b[0m\u001b[1;33m,\u001b[0m \u001b[0mself\u001b[0m\u001b[1;33m.\u001b[0m\u001b[0mengine\u001b[0m\u001b[1;33m)\u001b[0m\u001b[1;33m\u001b[0m\u001b[1;33m\u001b[0m\u001b[0m\n\u001b[0m\u001b[0;32m    933\u001b[0m \u001b[1;33m\u001b[0m\u001b[0m\n\u001b[0;32m    934\u001b[0m     \u001b[1;32mdef\u001b[0m \u001b[0mclose\u001b[0m\u001b[1;33m(\u001b[0m\u001b[0mself\u001b[0m\u001b[1;33m)\u001b[0m\u001b[1;33m:\u001b[0m\u001b[1;33m\u001b[0m\u001b[1;33m\u001b[0m\u001b[0m\n",
      "\u001b[1;32m~\\anaconda3\\lib\\site-packages\\pandas\\io\\parsers\\readers.py\u001b[0m in \u001b[0;36m_make_engine\u001b[1;34m(self, f, engine)\u001b[0m\n\u001b[0;32m   1232\u001b[0m \u001b[1;33m\u001b[0m\u001b[0m\n\u001b[0;32m   1233\u001b[0m         \u001b[1;32mtry\u001b[0m\u001b[1;33m:\u001b[0m\u001b[1;33m\u001b[0m\u001b[1;33m\u001b[0m\u001b[0m\n\u001b[1;32m-> 1234\u001b[1;33m             \u001b[1;32mreturn\u001b[0m \u001b[0mmapping\u001b[0m\u001b[1;33m[\u001b[0m\u001b[0mengine\u001b[0m\u001b[1;33m]\u001b[0m\u001b[1;33m(\u001b[0m\u001b[0mf\u001b[0m\u001b[1;33m,\u001b[0m \u001b[1;33m**\u001b[0m\u001b[0mself\u001b[0m\u001b[1;33m.\u001b[0m\u001b[0moptions\u001b[0m\u001b[1;33m)\u001b[0m\u001b[1;33m\u001b[0m\u001b[1;33m\u001b[0m\u001b[0m\n\u001b[0m\u001b[0;32m   1235\u001b[0m         \u001b[1;32mexcept\u001b[0m \u001b[0mException\u001b[0m\u001b[1;33m:\u001b[0m\u001b[1;33m\u001b[0m\u001b[1;33m\u001b[0m\u001b[0m\n\u001b[0;32m   1236\u001b[0m             \u001b[1;32mif\u001b[0m \u001b[0mself\u001b[0m\u001b[1;33m.\u001b[0m\u001b[0mhandles\u001b[0m \u001b[1;32mis\u001b[0m \u001b[1;32mnot\u001b[0m \u001b[1;32mNone\u001b[0m\u001b[1;33m:\u001b[0m\u001b[1;33m\u001b[0m\u001b[1;33m\u001b[0m\u001b[0m\n",
      "\u001b[1;32m~\\anaconda3\\lib\\site-packages\\pandas\\io\\parsers\\c_parser_wrapper.py\u001b[0m in \u001b[0;36m__init__\u001b[1;34m(self, src, **kwds)\u001b[0m\n\u001b[0;32m     73\u001b[0m \u001b[1;33m\u001b[0m\u001b[0m\n\u001b[0;32m     74\u001b[0m         \u001b[0mkwds\u001b[0m\u001b[1;33m[\u001b[0m\u001b[1;34m\"dtype\"\u001b[0m\u001b[1;33m]\u001b[0m \u001b[1;33m=\u001b[0m \u001b[0mensure_dtype_objs\u001b[0m\u001b[1;33m(\u001b[0m\u001b[0mkwds\u001b[0m\u001b[1;33m.\u001b[0m\u001b[0mget\u001b[0m\u001b[1;33m(\u001b[0m\u001b[1;34m\"dtype\"\u001b[0m\u001b[1;33m,\u001b[0m \u001b[1;32mNone\u001b[0m\u001b[1;33m)\u001b[0m\u001b[1;33m)\u001b[0m\u001b[1;33m\u001b[0m\u001b[1;33m\u001b[0m\u001b[0m\n\u001b[1;32m---> 75\u001b[1;33m         \u001b[0mself\u001b[0m\u001b[1;33m.\u001b[0m\u001b[0m_reader\u001b[0m \u001b[1;33m=\u001b[0m \u001b[0mparsers\u001b[0m\u001b[1;33m.\u001b[0m\u001b[0mTextReader\u001b[0m\u001b[1;33m(\u001b[0m\u001b[0msrc\u001b[0m\u001b[1;33m,\u001b[0m \u001b[1;33m**\u001b[0m\u001b[0mkwds\u001b[0m\u001b[1;33m)\u001b[0m\u001b[1;33m\u001b[0m\u001b[1;33m\u001b[0m\u001b[0m\n\u001b[0m\u001b[0;32m     76\u001b[0m \u001b[1;33m\u001b[0m\u001b[0m\n\u001b[0;32m     77\u001b[0m         \u001b[0mself\u001b[0m\u001b[1;33m.\u001b[0m\u001b[0munnamed_cols\u001b[0m \u001b[1;33m=\u001b[0m \u001b[0mself\u001b[0m\u001b[1;33m.\u001b[0m\u001b[0m_reader\u001b[0m\u001b[1;33m.\u001b[0m\u001b[0munnamed_cols\u001b[0m\u001b[1;33m\u001b[0m\u001b[1;33m\u001b[0m\u001b[0m\n",
      "\u001b[1;32m~\\anaconda3\\lib\\site-packages\\pandas\\_libs\\parsers.pyx\u001b[0m in \u001b[0;36mpandas._libs.parsers.TextReader.__cinit__\u001b[1;34m()\u001b[0m\n",
      "\u001b[1;32m~\\anaconda3\\lib\\site-packages\\pandas\\_libs\\parsers.pyx\u001b[0m in \u001b[0;36mpandas._libs.parsers.TextReader._get_header\u001b[1;34m()\u001b[0m\n",
      "\u001b[1;32m~\\anaconda3\\lib\\site-packages\\pandas\\_libs\\parsers.pyx\u001b[0m in \u001b[0;36mpandas._libs.parsers.TextReader._tokenize_rows\u001b[1;34m()\u001b[0m\n",
      "\u001b[1;32m~\\anaconda3\\lib\\site-packages\\pandas\\_libs\\parsers.pyx\u001b[0m in \u001b[0;36mpandas._libs.parsers.raise_parser_error\u001b[1;34m()\u001b[0m\n",
      "\u001b[1;31mUnicodeDecodeError\u001b[0m: 'utf-8' codec can't decode byte 0xbc in position 0: invalid start byte"
     ]
    }
   ],
   "source": [
    "# data와 target이 어느 동 소속인지를 나타내는 데이터 불러오기\n",
    "demands = pd.read_csv('수요지 행정동 분류.csv')\n",
    "facilities = pd.read_csv('target 행정동 분류.csv')"
   ]
  },
  {
   "cell_type": "code",
   "execution_count": null,
   "id": "d6f0cf44",
   "metadata": {},
   "outputs": [],
   "source": [
    "# target 데이터에서 바다 위에 존재하는 좌표들 배제\n",
    "facilities = facilities.drop([0, 3, 4, 6, 10,18]) "
   ]
  },
  {
   "cell_type": "code",
   "execution_count": null,
   "id": "65579669",
   "metadata": {},
   "outputs": [],
   "source": [
    "demands_v = demands['행정동명'].unique()\n",
    "facilities_v = facilities['행정동명'].unique()"
   ]
  },
  {
   "cell_type": "code",
   "execution_count": null,
   "id": "d6e759a8",
   "metadata": {
    "scrolled": false
   },
   "outputs": [],
   "source": [
    "# data의 좌표들이 위치한 동네에 target의 좌표들도 존재하는 지 확인\n",
    "for name in demands_v:\n",
    "    if name in facilities_v:\n",
    "        print('true')\n",
    "    else:\n",
    "        print(name)\n",
    "# 중구 송월동,중구 율목동, 동구 송현1·2동, 동구 송림1동, 동구 송현3동, 동구 송림4동의 경우에는 target의 좌표가 없다"
   ]
  },
  {
   "cell_type": "code",
   "execution_count": null,
   "id": "65e799d0",
   "metadata": {},
   "outputs": [],
   "source": [
    "# 수요 df를 동 단위로 분할\n",
    "d_v_df_dict = {}\n",
    "for d_v_name in demands_v:\n",
    "    d_v_df_dict[d_v_name] = demands[demands['행정동명']==d_v_name]"
   ]
  },
  {
   "cell_type": "code",
   "execution_count": null,
   "id": "3e58d8a9",
   "metadata": {},
   "outputs": [],
   "source": [
    "d_v_df_dict"
   ]
  },
  {
   "cell_type": "code",
   "execution_count": null,
   "id": "47e55434",
   "metadata": {},
   "outputs": [],
   "source": [
    "# 시설지 후보 df를 동 단위로 분할\n",
    "f_v_df_dict={}\n",
    "for f_v_name in facilities_v:\n",
    "    f_v_df_dict[f_v_name] = facilities[facilities['행정동명']==f_v_name]"
   ]
  },
  {
   "cell_type": "markdown",
   "id": "1654650a",
   "metadata": {},
   "source": [
    "### 문제,변수 설정"
   ]
  },
  {
   "cell_type": "code",
   "execution_count": null,
   "id": "bbed83a7",
   "metadata": {},
   "outputs": [],
   "source": [
    "# i(수요지)의 개수\n",
    "v_i_num_dict = {}\n",
    "for key, value in d_v_df_dict.items():\n",
    "    v_i_num_dict[key] = value.shape[0]\n",
    "    \n",
    "# j(학교 입지 후보)의 개수\n",
    "v_j_num_dict = {}\n",
    "for key, value in f_v_df_dict.items():\n",
    "    v_j_num_dict[key] = value.shape[0]\n"
   ]
  },
  {
   "cell_type": "code",
   "execution_count": null,
   "id": "be501d6e",
   "metadata": {},
   "outputs": [],
   "source": []
  },
  {
   "cell_type": "code",
   "execution_count": null,
   "id": "3b32440a",
   "metadata": {},
   "outputs": [],
   "source": [
    "# 할당 변수 생성: a[i,j]는 요청지 i를 후보 시설지 j에 할당할지 여부를 나타냅니다.\n",
    "a = LpVariable.dicts(\"a\", ((i, j) for i in range(num_i) for j in range(num_j)), 0, 1, LpBinary)\n",
    "\n",
    "# 시설 활성화 변수 생성: b[j]는 시설지 j의 활성화 여부를 나타냅니다.\n",
    "b = LpVariable.dicts(\"b\", (j for j in range(num_j)), 0, 1, LpBinary)"
   ]
  },
  {
   "cell_type": "code",
   "execution_count": null,
   "id": "19f31c01",
   "metadata": {},
   "outputs": [],
   "source": [
    "print(a[0,0])"
   ]
  },
  {
   "cell_type": "code",
   "execution_count": null,
   "id": "c744b9a7",
   "metadata": {},
   "outputs": [],
   "source": [
    "# 주택 - 학교 간의 거리를 구하기 위한 함수 / 수식에서 Cur에 해당\n",
    "\n",
    "def haversine_distance(coord1, coord2):\n",
    "    R = 6371  # Earth's radius in kilometers\n",
    "    lat1, lon1 = coord1\n",
    "    lat2, lon2 = coord2\n",
    "    \n",
    "    d_lat = math.radians(lat2 - lat1)\n",
    "    d_lon = math.radians(lon2 - lon1)\n",
    "    \n",
    "    a = math.sin(d_lat/2) * math.sin(d_lat/2) + math.cos(math.radians(lat1)) * math.cos(math.radians(lat2)) * math.sin(d_lon/2) * math.sin(d_lon/2)\n",
    "    c = 2 * math.atan2(math.sqrt(a), math.sqrt(1-a))\n",
    "    \n",
    "    distance = R * c\n",
    "    return distance"
   ]
  },
  {
   "cell_type": "code",
   "execution_count": null,
   "id": "19c6b154",
   "metadata": {},
   "outputs": [],
   "source": [
    "# 각 주택에서 각 학교까지의 거리를 담은 dict \n",
    "distances = {}\n",
    "for i in range(num_i):\n",
    "    for j in range(num_j):\n",
    "        coord_i = (demands.loc[i, 'X'], demands.loc[i, 'Y'])\n",
    "        coord_j = (facilities.loc[j, 'X'], facilities.loc[j, 'Y'])\n",
    "        distance = haversine_distance(coord_i, coord_j)\n",
    "        distances[(i, j)] = distance\n"
   ]
  },
  {
   "cell_type": "code",
   "execution_count": null,
   "id": "694db820",
   "metadata": {},
   "outputs": [],
   "source": [
    "# 문제 정의\n",
    "model = LpProblem(\"Capacitated_Facility_Location_Problem\", LpMinimize)"
   ]
  },
  {
   "cell_type": "markdown",
   "id": "663dc9a1",
   "metadata": {},
   "source": [
    "### 목적함수 설정"
   ]
  },
  {
   "cell_type": "code",
   "execution_count": null,
   "id": "42468a41",
   "metadata": {},
   "outputs": [],
   "source": [
    "# 좌항은 이동에 대한 비용 / 우항은 학교 설립에 대한 비용 / 단위는 만원\n",
    "model += lpSum(0.3562 * distances[(i, j)] * a[(i, j)] * d[i] for i in range(num_i) for j in range(num_j)) + lpSum(b[j] * 3000000 for j in range(num_j))"
   ]
  },
  {
   "cell_type": "markdown",
   "id": "43c4db6f",
   "metadata": {},
   "source": [
    "### 제약식"
   ]
  },
  {
   "cell_type": "code",
   "execution_count": null,
   "id": "592aca4b",
   "metadata": {},
   "outputs": [],
   "source": [
    "# 수요지 i는 하나의 j에만 할당되어야 함\n",
    "for i in tqdm(range(num_i), desc=\"Constraint 1\"):\n",
    "    model += lpSum([a[i,j] for j in range(num_j)]) == 1\n",
    "    \n",
    "# 각 학교 당 배정 된 학생 수는 750 사이\n",
    "for j in tqdm(range(num_j), desc=\"Constraint 2\"):\n",
    "    total_demand_for_j = pulp.lpSum([d[i] * a[i,j] for i in range(num_i)])\n",
    "    model += total_demand_for_j <= 750 * b[j]\n",
    "    \n",
    "# 학교가 설립되었을 때만 해당 학교에 학생 배정 가능\n",
    "for i in tqdm(range(num_i), desc=\"Constraint 3\"):\n",
    "    for j in range(num_j):\n",
    "        model += a[i,j] <= b[j]\n",
    "\n",
    "# 모든 학생의 통학거리는 1.5km를 넘으면 안됨\n",
    "for i in tqdm(range(num_i), desc=\"Constraint 4\"):\n",
    "    for j in range(num_j):\n",
    "        if distances[i,j] > 7:\n",
    "            model += a[i,j] == 0\n"
   ]
  },
  {
   "cell_type": "markdown",
   "id": "4ff591e2",
   "metadata": {},
   "source": [
    "### 최적화 문제 풀기 및 결과 출력"
   ]
  },
  {
   "cell_type": "code",
   "execution_count": null,
   "id": "9948fc46",
   "metadata": {},
   "outputs": [],
   "source": [
    "# 최적화 문제 풀기\n",
    "\n",
    "model.solve(PULP_CBC_CMD(msg=True))\n",
    "\n",
    "# 활성화될 시설지 확인\n",
    "# activated_facilities에는 학교가 설립될 시설지의 인덱스 \n",
    "activated_facilities = [j for j in range(num_j) if pulp.value(b[j]) == 1]\n",
    "print(activated_facilities)"
   ]
  },
  {
   "cell_type": "code",
   "execution_count": null,
   "id": "203b5bbe",
   "metadata": {},
   "outputs": [],
   "source": [
    "# 4. 최적해가 도출이 되었는지 여부\n",
    "print(f\"Status: {pulp.LpStatus[prob.status]}\")\n",
    "# 3. 각 활성화된 시설지의 위치와 할당된 학생 수 계산\n",
    "result=[]\n",
    "for j in activated_facilities:\n",
    "    assigned_students = sum(pulp.value(a[i, j]) for i in range(num_i))\n",
    "    location = (facilities.loc[j, 'X'], facilities.loc[j, 'Y'])\n",
    "    line = [location,assigned_students]\n",
    "    result.append(line)\n",
    "    print(f\"Facility {j+1} at location {location} has {assigned_students} students assigned.\")"
   ]
  },
  {
   "cell_type": "code",
   "execution_count": null,
   "id": "8934a43c",
   "metadata": {},
   "outputs": [],
   "source": [
    "# 수요지들과 후보 시설지의 할당 내용 "
   ]
  }
 ],
 "metadata": {
  "kernelspec": {
   "display_name": "Python 3 (ipykernel)",
   "language": "python",
   "name": "python3"
  },
  "language_info": {
   "codemirror_mode": {
    "name": "ipython",
    "version": 3
   },
   "file_extension": ".py",
   "mimetype": "text/x-python",
   "name": "python",
   "nbconvert_exporter": "python",
   "pygments_lexer": "ipython3",
   "version": "3.9.13"
  }
 },
 "nbformat": 4,
 "nbformat_minor": 5
}
