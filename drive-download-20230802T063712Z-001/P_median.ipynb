{
 "cells": [
  {
   "cell_type": "code",
   "execution_count": 1,
   "metadata": {
    "colab": {
     "base_uri": "https://localhost:8080/"
    },
    "id": "b1bzVCcN7Gn-",
    "outputId": "593a6214-70e1-4998-b4e9-61593cdcb431"
   },
   "outputs": [
    {
     "name": "stdout",
     "output_type": "stream",
     "text": [
      "Requirement already satisfied: pulp in c:\\programdata\\anaconda3\\lib\\site-packages (2.7.0)\n",
      "Note: you may need to restart the kernel to use updated packages.\n"
     ]
    }
   ],
   "source": [
    "pip install pulp"
   ]
  },
  {
   "cell_type": "code",
   "execution_count": 2,
   "metadata": {
    "id": "toSMARlB7KHZ"
   },
   "outputs": [
    {
     "ename": "TypeError",
     "evalue": "'ellipsis' object cannot be interpreted as an integer",
     "output_type": "error",
     "traceback": [
      "\u001b[1;31m---------------------------------------------------------------------------\u001b[0m",
      "\u001b[1;31mTypeError\u001b[0m                                 Traceback (most recent call last)",
      "\u001b[1;32m<ipython-input-2-fca3da2d46f9>\u001b[0m in \u001b[0;36m<module>\u001b[1;34m\u001b[0m\n\u001b[0;32m     26\u001b[0m \u001b[1;31m# ----------------------------------------------\u001b[0m\u001b[1;33m\u001b[0m\u001b[1;33m\u001b[0m\u001b[1;33m\u001b[0m\u001b[0m\n\u001b[0;32m     27\u001b[0m \u001b[1;31m# l_ij는 노드 j의 시설물이 노드 i의 총 수요를 충족하면 1, 아니면 0입니다.\u001b[0m\u001b[1;33m\u001b[0m\u001b[1;33m\u001b[0m\u001b[1;33m\u001b[0m\u001b[0m\n\u001b[1;32m---> 28\u001b[1;33m \u001b[0ml\u001b[0m \u001b[1;33m=\u001b[0m \u001b[0mpulp\u001b[0m\u001b[1;33m.\u001b[0m\u001b[0mLpVariable\u001b[0m\u001b[1;33m.\u001b[0m\u001b[0mdicts\u001b[0m\u001b[1;33m(\u001b[0m\u001b[1;34m\"l\"\u001b[0m\u001b[1;33m,\u001b[0m \u001b[1;33m(\u001b[0m\u001b[0mrange\u001b[0m\u001b[1;33m(\u001b[0m\u001b[0mnum_i\u001b[0m\u001b[1;33m)\u001b[0m\u001b[1;33m,\u001b[0m \u001b[0mrange\u001b[0m\u001b[1;33m(\u001b[0m\u001b[0mnum_j\u001b[0m\u001b[1;33m)\u001b[0m\u001b[1;33m)\u001b[0m\u001b[1;33m,\u001b[0m \u001b[1;36m0\u001b[0m\u001b[1;33m,\u001b[0m \u001b[1;36m1\u001b[0m\u001b[1;33m,\u001b[0m \u001b[0mpulp\u001b[0m\u001b[1;33m.\u001b[0m\u001b[0mLpBinary\u001b[0m\u001b[1;33m)\u001b[0m\u001b[1;33m\u001b[0m\u001b[1;33m\u001b[0m\u001b[0m\n\u001b[0m\u001b[0;32m     29\u001b[0m \u001b[1;33m\u001b[0m\u001b[0m\n\u001b[0;32m     30\u001b[0m \u001b[1;31m# k_j는 노드 j에 시설물이 설치되면 1, 아니면 0입니다.\u001b[0m\u001b[1;33m\u001b[0m\u001b[1;33m\u001b[0m\u001b[1;33m\u001b[0m\u001b[0m\n",
      "\u001b[1;31mTypeError\u001b[0m: 'ellipsis' object cannot be interpreted as an integer"
     ]
    }
   ],
   "source": [
    "import pulp\n",
    "\n",
    "# 데이터 초기화 부분\n",
    "# ----------------------------------------------\n",
    "# i의 개수, 즉 수요지의 개수\n",
    "num_i = ...\n",
    "\n",
    "# j의 개수, 즉 시설물 입지점의 개수\n",
    "num_j = ...\n",
    "\n",
    "# a_i 값의 리스트. 각 수요지 i의 수요량을 나타냅니다.\n",
    "a = [...]\n",
    "\n",
    "# b_ij 값의 2차원 리스트. 수요지 i와 시설물 입지점 j 사이의 거리를 나타냅니다.\n",
    "# 예: b = [[b_11, b_12, ...], [b_21, b_22, ...], ...]\n",
    "b = ...\n",
    "\n",
    "# 설치할 시설물의 개수\n",
    "p = ...\n",
    "# ----------------------------------------------\n",
    "\n",
    "# LP 문제 정의. 여기서는 총 거리를 최소화하는 것이 목적입니다.\n",
    "prob = pulp.LpProblem(\"Binary_Optimization\", pulp.LpMinimize)\n",
    "\n",
    "# 변수 정의 부분\n",
    "# ----------------------------------------------\n",
    "# l_ij는 노드 j의 시설물이 노드 i의 총 수요를 충족하면 1, 아니면 0입니다.\n",
    "l = pulp.LpVariable.dicts(\"l\", (range(num_i), range(num_j)), 0, 1, pulp.LpBinary)\n",
    "\n",
    "# k_j는 노드 j에 시설물이 설치되면 1, 아니면 0입니다.\n",
    "k = pulp.LpVariable.dicts(\"k\", range(num_j), 0, 1, pulp.LpBinary)\n",
    "# ----------------------------------------------\n",
    "\n",
    "# 목적함수 정의. 각 수요지와 시설물 입지점 사이의 거리와 해당 수요지의 수요량을 곱한 값을 최소화합니다.\n",
    "prob += pulp.lpSum([a[i] * b[i][j] * l[i][j] for i in range(num_i) for j in range(num_j)])\n",
    "\n",
    "# 제약조건 설정 부분\n",
    "# ----------------------------------------------\n",
    "# 각 수요지 i는 정확히 하나의 시설물 j에만 할당되어야 합니다.\n",
    "for i in range(num_i):\n",
    "    prob += pulp.lpSum([l[i][j] for j in range(num_j)]) == 1\n",
    "\n",
    "# 설치된 시설물의 총 개수는 p와 동일해야 합니다.\n",
    "prob += pulp.lpSum([k[j] for j in range(num_j)]) == p\n",
    "\n",
    "# l_ij는 k_j에 의존적입니다. 즉, k_j가 1일 때만 l_ij는 1이 될 수 있습니다.\n",
    "for i in range(num_i):\n",
    "    for j in range(num_j):\n",
    "        prob += l[i][j] <= k[j]\n",
    "\n",
    "# 각 수요량 a_i는 200과 750 사이의 값을 가져야 합니다.\n",
    "for i in range(num_i):\n",
    "    prob += a[i] >= 200\n",
    "    prob += a[i] <= 750\n",
    "\n",
    "# 각 거리 b_ij는 최대 1.5km까지만 허용됩니다.\n",
    "for i in range(num_i):\n",
    "    for j in range(num_j):\n",
    "        prob += b[i][j] <= 1.5\n",
    "# ----------------------------------------------\n",
    "\n",
    "# 최적화 문제 풀기\n",
    "prob.solve()\n",
    "\n",
    "# 결과 출력 부분\n",
    "# ----------------------------------------------\n",
    "print(f\"Status: {pulp.LpStatus[prob.status]}\")\n",
    "\n",
    "# 각 수요지에 할당된 시설물 입지점 출력\n",
    "for i in range(num_i):\n",
    "    for j in range(num_j):\n",
    "        print(f\"l[{i}][{j}] = {l[i][j].varValue}\")\n",
    "\n",
    "# 각 시설물 입지점의 설치 여부 출력\n",
    "for j in range(num_j):\n",
    "    print(f\"k[{j}] = {k[j].varValue}\")\n",
    "# ----------------------------------------------\n"
   ]
  }
 ],
 "metadata": {
  "colab": {
   "provenance": []
  },
  "kernelspec": {
   "display_name": "Python 3 (ipykernel)",
   "language": "python",
   "name": "python3"
  },
  "language_info": {
   "codemirror_mode": {
    "name": "ipython",
    "version": 3
   },
   "file_extension": ".py",
   "mimetype": "text/x-python",
   "name": "python",
   "nbconvert_exporter": "python",
   "pygments_lexer": "ipython3",
   "version": "3.9.13"
  }
 },
 "nbformat": 4,
 "nbformat_minor": 1
}
