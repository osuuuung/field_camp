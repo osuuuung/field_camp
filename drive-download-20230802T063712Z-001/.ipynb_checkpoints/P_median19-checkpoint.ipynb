{
 "cells": [
  {
   "cell_type": "code",
   "execution_count": 10,
   "metadata": {
    "colab": {
     "base_uri": "https://localhost:8080/"
    },
    "id": "b1bzVCcN7Gn-",
    "outputId": "77f82f73-81d7-4226-ae2d-8f2d46110ea0"
   },
   "outputs": [],
   "source": [
    "# !pip install pulp"
   ]
  },
  {
   "cell_type": "code",
   "execution_count": 11,
   "metadata": {
    "id": "OlOOOqGXQtQv"
   },
   "outputs": [],
   "source": [
    "import numpy as np\n",
    "import pandas as pd"
   ]
  },
  {
   "cell_type": "code",
   "execution_count": 12,
   "metadata": {
    "colab": {
     "base_uri": "https://localhost:8080/",
     "height": 206
    },
    "id": "xlRpkhABQdIh",
    "outputId": "2eb2f88c-6fae-4110-ad08-c4316ebbe232"
   },
   "outputs": [
    {
     "data": {
      "text/html": [
       "<div>\n",
       "<style scoped>\n",
       "    .dataframe tbody tr th:only-of-type {\n",
       "        vertical-align: middle;\n",
       "    }\n",
       "\n",
       "    .dataframe tbody tr th {\n",
       "        vertical-align: top;\n",
       "    }\n",
       "\n",
       "    .dataframe thead th {\n",
       "        text-align: right;\n",
       "    }\n",
       "</style>\n",
       "<table border=\"1\" class=\"dataframe\">\n",
       "  <thead>\n",
       "    <tr style=\"text-align: right;\">\n",
       "      <th></th>\n",
       "      <th>수요지 id</th>\n",
       "      <th>X</th>\n",
       "      <th>Y</th>\n",
       "      <th>초등학령인구</th>\n",
       "    </tr>\n",
       "  </thead>\n",
       "  <tbody>\n",
       "    <tr>\n",
       "      <th>0</th>\n",
       "      <td>C1</td>\n",
       "      <td>126.371505</td>\n",
       "      <td>37.463782</td>\n",
       "      <td>1</td>\n",
       "    </tr>\n",
       "    <tr>\n",
       "      <th>1</th>\n",
       "      <td>C2</td>\n",
       "      <td>126.479505</td>\n",
       "      <td>37.495782</td>\n",
       "      <td>46</td>\n",
       "    </tr>\n",
       "    <tr>\n",
       "      <th>2</th>\n",
       "      <td>C3</td>\n",
       "      <td>126.481505</td>\n",
       "      <td>37.499782</td>\n",
       "      <td>36</td>\n",
       "    </tr>\n",
       "    <tr>\n",
       "      <th>3</th>\n",
       "      <td>C4</td>\n",
       "      <td>126.482505</td>\n",
       "      <td>37.495782</td>\n",
       "      <td>81</td>\n",
       "    </tr>\n",
       "    <tr>\n",
       "      <th>4</th>\n",
       "      <td>C5</td>\n",
       "      <td>126.483505</td>\n",
       "      <td>37.497782</td>\n",
       "      <td>25</td>\n",
       "    </tr>\n",
       "  </tbody>\n",
       "</table>\n",
       "</div>"
      ],
      "text/plain": [
       "  수요지 id           X          Y  초등학령인구\n",
       "0     C1  126.371505  37.463782       1\n",
       "1     C2  126.479505  37.495782      46\n",
       "2     C3  126.481505  37.499782      36\n",
       "3     C4  126.482505  37.495782      81\n",
       "4     C5  126.483505  37.497782      25"
      ]
     },
     "execution_count": 12,
     "metadata": {},
     "output_type": "execute_result"
    }
   ],
   "source": [
    "data_path='data.csv'\n",
    "data=pd.read_csv(data_path,encoding='cp949')\n",
    "data.head()"
   ]
  },
  {
   "cell_type": "code",
   "execution_count": 13,
   "metadata": {
    "colab": {
     "base_uri": "https://localhost:8080/",
     "height": 206
    },
    "id": "x60gG7cwQ20_",
    "outputId": "3ebe59b2-d0d0-4d72-c19a-cfccb9e37ded"
   },
   "outputs": [
    {
     "data": {
      "text/html": [
       "<div>\n",
       "<style scoped>\n",
       "    .dataframe tbody tr th:only-of-type {\n",
       "        vertical-align: middle;\n",
       "    }\n",
       "\n",
       "    .dataframe tbody tr th {\n",
       "        vertical-align: top;\n",
       "    }\n",
       "\n",
       "    .dataframe thead th {\n",
       "        text-align: right;\n",
       "    }\n",
       "</style>\n",
       "<table border=\"1\" class=\"dataframe\">\n",
       "  <thead>\n",
       "    <tr style=\"text-align: right;\">\n",
       "      <th></th>\n",
       "      <th>학교 id</th>\n",
       "      <th>X</th>\n",
       "      <th>Y</th>\n",
       "    </tr>\n",
       "  </thead>\n",
       "  <tbody>\n",
       "    <tr>\n",
       "      <th>0</th>\n",
       "      <td>F1</td>\n",
       "      <td>126.543921</td>\n",
       "      <td>37.467292</td>\n",
       "    </tr>\n",
       "    <tr>\n",
       "      <th>1</th>\n",
       "      <td>F2</td>\n",
       "      <td>126.568726</td>\n",
       "      <td>37.496302</td>\n",
       "    </tr>\n",
       "    <tr>\n",
       "      <th>2</th>\n",
       "      <td>F3</td>\n",
       "      <td>126.492770</td>\n",
       "      <td>37.484428</td>\n",
       "    </tr>\n",
       "    <tr>\n",
       "      <th>3</th>\n",
       "      <td>F4</td>\n",
       "      <td>126.629683</td>\n",
       "      <td>37.495781</td>\n",
       "    </tr>\n",
       "    <tr>\n",
       "      <th>4</th>\n",
       "      <td>F5</td>\n",
       "      <td>126.528286</td>\n",
       "      <td>37.450285</td>\n",
       "    </tr>\n",
       "  </tbody>\n",
       "</table>\n",
       "</div>"
      ],
      "text/plain": [
       "  학교 id           X          Y\n",
       "0    F1  126.543921  37.467292\n",
       "1    F2  126.568726  37.496302\n",
       "2    F3  126.492770  37.484428\n",
       "3    F4  126.629683  37.495781\n",
       "4    F5  126.528286  37.450285"
      ]
     },
     "execution_count": 13,
     "metadata": {},
     "output_type": "execute_result"
    }
   ],
   "source": [
    "target_path='target.csv'\n",
    "target=pd.read_csv(target_path,encoding='cp949')\n",
    "target.head()"
   ]
  },
  {
   "cell_type": "code",
   "execution_count": 14,
   "metadata": {
    "id": "jZvmEp_4T5C3"
   },
   "outputs": [],
   "source": [
    "def haversine_distance(lat1, lon1, lat2, lon2):\n",
    "    R = 6371  # 지구 반지름 (킬로미터)\n",
    "\n",
    "    # 위도와 경도를 라디안으로 변환\n",
    "    lat1, lon1, lat2, lon2 = map(np.radians, [lat1, lon1, lat2, lon2])\n",
    "\n",
    "    # 위도와 경도의 차이 계산\n",
    "    dlat = lat2 - lat1\n",
    "    dlon = lon2 - lon1\n",
    "\n",
    "    # 허버사인 공식\n",
    "    a = np.sin(dlat/2)**2 + np.cos(lat1) * np.cos(lat2) * np.sin(dlon/2)**2\n",
    "    c = 2 * np.arctan2(np.sqrt(a), np.sqrt(1-a))\n",
    "    distance = R * c\n",
    "\n",
    "    return distance"
   ]
  },
  {
   "cell_type": "code",
   "execution_count": 15,
   "metadata": {
    "colab": {
     "base_uri": "https://localhost:8080/"
    },
    "id": "_DFlLXRAgexv",
    "outputId": "16b8c3df-6ced-4ac7-f678-0414366f2681"
   },
   "outputs": [
    {
     "data": {
      "text/plain": [
       "13.614666666666666"
      ]
     },
     "execution_count": 15,
     "metadata": {},
     "output_type": "execute_result"
    }
   ],
   "source": [
    "s=data['초등학령인구'].sum()\n",
    "s/750"
   ]
  },
  {
   "cell_type": "code",
   "execution_count": 16,
   "metadata": {
    "colab": {
     "base_uri": "https://localhost:8080/"
    },
    "id": "l58UMBpQghN2",
    "outputId": "26d995a1-6c05-4579-f3fa-2849eb50e035"
   },
   "outputs": [
    {
     "data": {
      "text/plain": [
       "51.055"
      ]
     },
     "execution_count": 16,
     "metadata": {},
     "output_type": "execute_result"
    }
   ],
   "source": [
    "s/200"
   ]
  },
  {
   "cell_type": "code",
   "execution_count": null,
   "metadata": {
    "colab": {
     "base_uri": "https://localhost:8080/"
    },
    "id": "toSMARlB7KHZ",
    "outputId": "b75b4ea2-c336-422c-b486-3ba5c47c1546"
   },
   "outputs": [],
   "source": [
    "import pulp\n",
    "from pulp import LpConstraint\n",
    "\n",
    "# 데이터 초기화 부분\n",
    "# ----------------------------------------------\n",
    "# i의 개수, 즉 수요지의 개수\n",
    "num_i = data.shape[0]\n",
    "\n",
    "# j의 개수, 즉 시설물 입지점의 개수\n",
    "num_j = target.shape[0]\n",
    "\n",
    "# a_i 값의 리스트. 각 수요지 i의 수요량을 나타냅니다.\n",
    "a = []\n",
    "for i in data['초등학령인구']:\n",
    "  a.append(i)\n",
    "\n",
    "# b_ij 값의 2차원 리스트. 수요지 i와 시설물 입지점 j 사이의 거리를 나타냅니다.\n",
    "# 예: b = [[b_11, b_12, ...], [b_21, b_22, ...], ...]\n",
    "b = []\n",
    "\n",
    "# 각 수요지에서 모든 시설물까지의 거리를 계산\n",
    "for i, data_row in data.iterrows():\n",
    "    distances_for_this_demand = []\n",
    "    for j, target_row in target.iterrows():\n",
    "        distance = haversine_distance(data_row['Y'], data_row['X'], target_row['Y'], target_row['X'])\n",
    "        distances_for_this_demand.append(distance)\n",
    "    b.append(distances_for_this_demand)\n",
    "\n",
    "# 설치할 시설물의 개수\n",
    "# 14개 이상 50개 이하\n",
    "p = 19\n",
    "# ----------------------------------------------\n",
    "\n",
    "# LP 문제 정의. 여기서는 총 거리를 최소화하는 것이 목적입니다.\n",
    "prob = pulp.LpProblem(\"Binary_Optimization\", pulp.LpMinimize)\n",
    "\n",
    "# 변수 정의 부분\n",
    "# ----------------------------------------------\n",
    "# l_ij는 노드 j의 시설물이 노드 i의 총 수요를 충족하면 1, 아니면 0입니다.\n",
    "l = pulp.LpVariable.dicts(\"l\", (range(num_i), range(num_j)), 0, 1, pulp.LpBinary)\n",
    "\n",
    "# k_j는 노드 j에 시설물이 설치되면 1, 아니면 0입니다.\n",
    "k = pulp.LpVariable.dicts(\"k\", range(num_j), 0, 1, pulp.LpBinary)\n",
    "# ----------------------------------------------\n",
    "\n",
    "# 목적함수 정의. 각 수요지와 시설물 입지점 사이의 거리와 해당 수요지의 수요량을 곱한 값을 최소화합니다.\n",
    "prob += pulp.lpSum([a[i] * b[i][j] * l[i][j] for i in range(num_i) for j in range(num_j)])\n",
    "\n",
    "# 제약조건 설정 부분\n",
    "# ----------------------------------------------\n",
    "# 각 수요지 i는 정확히 하나의 시설물 j에만 할당되어야 합니다.\n",
    "for i in range(num_i):\n",
    "    prob += pulp.lpSum([l[i][j] for j in range(num_j)]) == 1\n",
    "\n",
    "# 설치된 시설물의 총 개수는 p와 동일해야 합니다.\n",
    "prob += pulp.lpSum([k[j] for j in range(num_j)]) == p\n",
    "\n",
    "# l_ij는 k_j에 의존적입니다. 즉, k_j가 1일 때만 l_ij는 1이 될 수 있습니다.\n",
    "for i in range(num_i):\n",
    "    for j in range(num_j):\n",
    "        prob += l[i][j] <= k[j]\n",
    "\n",
    "# 각 시설물 j에 할당된 총 수요량을 계산하고, 그 값이 200과 750 사이에 있도록 제약 조건을 설정합니다.\n",
    "for j in range(num_j):\n",
    "    total_demand_for_j = pulp.lpSum([a[i] * l[i][j] for i in range(num_i)])\n",
    "    prob += total_demand_for_j >= 200 * k[j]  # 시설물이 설치되었을 때만 제약이 활성화되어야 합니다.\n",
    "    prob += total_demand_for_j <= 750 * k[j]  # 시설물이 설치되었을 때만 제약이 활성화되어야 합니다.\n",
    "\n",
    "# 각 거리 b_ij는 최대 1.5km까지만 허용됩니다.\n",
    "for i in range(num_i):\n",
    "    # 가능한 시설물 할당 리스트 구하기\n",
    "    possible_assignments = [j for j in range(num_j) if b[i][j] <= 3]\n",
    "\n",
    "    \n",
    "\n",
    "# 시설물 입지점 1, 4, 5, 7, 11, 15 가 할당되지 않도록 하는 제약식 추가\n",
    "excluded_facility_indices = [0, 3, 4, 6, 10, 14]  # 시설물 입지점 인덱스는 0부터 시작\n",
    "\n",
    "for j in excluded_facility_indices:\n",
    "    prob += k[j] == 0\n",
    "# ----------------------------------------------\n",
    "\n",
    "# 최적화 문제 풀기\n",
    "prob.solve()\n",
    "\n",
    "# 결과 출력 부분\n",
    "# ----------------------------------------------\n",
    "print(f\"Status: {pulp.LpStatus[prob.status]}\")\n",
    "\n",
    "# 각 수요지에 할당된 시설물 입지점 출력 (값이 1인 경우만 출력)\n",
    "for i in range(num_i):\n",
    "    for j in range(num_j):\n",
    "        if l[i][j].varValue == 1:\n",
    "            print(f\"수요지 {i+1}는 시설물 입지점 {j+1}에 할당됨\")\n",
    "\n",
    "# 설치된 시설물 입지점만 출력 (값이 1인 경우만 출력)\n",
    "for j in range(num_j):\n",
    "    if k[j].varValue == 1:\n",
    "        print(f\"시설물 입지점 {j+1}에 설치됨\")\n",
    "\n",
    "# 할당된 시설물 입지점 및 연결된 수요지 정보를 저장할 리스트\n",
    "assigned_data = []\n",
    "\n",
    "# 설치된 시설물 입지점 및 배정된 수요량 정보를 저장할 리스트\n",
    "facility_demand_data = []\n",
    "\n",
    "# 각 수요지에 할당된 시설물 입지점 정보 추출\n",
    "for j in range(num_j):\n",
    "    if k[j].varValue == 1:\n",
    "        connected_demands = [i+1 for i in range(num_i) if l[i][j].varValue == 1]\n",
    "        assigned_data.append({'시설물_입지점': j+1, '연결된_수요지': connected_demands})\n",
    "\n",
    "        total_demand_for_j = sum([a[i-1] for i in connected_demands]) # <- 수정된 부분\n",
    "        facility_demand_data.append({'시설물_입지점': j+1, '배정된_수요량': total_demand_for_j})\n",
    "\n",
    "# 데이터프레임으로 변환 후 출력\n",
    "assigned_df = pd.DataFrame(assigned_data)\n",
    "print(assigned_df)\n",
    "\n",
    "facility_demand_df = pd.DataFrame(facility_demand_data)\n",
    "print(facility_demand_df)"
   ]
  },
  {
   "cell_type": "code",
   "execution_count": null,
   "metadata": {},
   "outputs": [],
   "source": []
  },
  {
   "cell_type": "code",
   "execution_count": null,
   "metadata": {},
   "outputs": [],
   "source": []
  }
 ],
 "metadata": {
  "colab": {
   "provenance": []
  },
  "kernelspec": {
   "display_name": "Python 3 (ipykernel)",
   "language": "python",
   "name": "python3"
  },
  "language_info": {
   "codemirror_mode": {
    "name": "ipython",
    "version": 3
   },
   "file_extension": ".py",
   "mimetype": "text/x-python",
   "name": "python",
   "nbconvert_exporter": "python",
   "pygments_lexer": "ipython3",
   "version": "3.9.13"
  }
 },
 "nbformat": 4,
 "nbformat_minor": 1
}
