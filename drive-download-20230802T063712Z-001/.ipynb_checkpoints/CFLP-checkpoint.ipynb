{
 "cells": [
  {
   "cell_type": "code",
   "execution_count": 1,
   "id": "679b7db7",
   "metadata": {
    "scrolled": true
   },
   "outputs": [],
   "source": [
    "# !pip install pulp\n",
    "# !pip install tqdm"
   ]
  },
  {
   "cell_type": "code",
   "execution_count": 2,
   "id": "2f00fccc",
   "metadata": {},
   "outputs": [],
   "source": [
    "import pulp \n",
    "from pulp import *\n",
    "import pandas as pd\n",
    "import math\n",
    "from tqdm.notebook import tqdm\n"
   ]
  },
  {
   "cell_type": "code",
   "execution_count": 10,
   "id": "653eb8fd",
   "metadata": {},
   "outputs": [
    {
     "data": {
      "text/plain": [
       "pandas.core.frame.DataFrame"
      ]
     },
     "execution_count": 10,
     "metadata": {},
     "output_type": "execute_result"
    }
   ],
   "source": [
    "# data와 target이 어느 동 소속인지를 나타내는 데이터 불러오기\n",
    "demands = pd.read_csv('수요지 행정동 분류.csv')\n",
    "facilities = pd.read_csv('target 행정동 분류.csv')"
   ]
  },
  {
   "cell_type": "code",
   "execution_count": 11,
   "id": "2936150b",
   "metadata": {},
   "outputs": [],
   "source": [
    "# target 데이터에서 바다 위에 존재하는 좌표들 배제\n",
    "facilities = facilities.drop([0, 3, 4, 6, 10,18]) "
   ]
  },
  {
   "cell_type": "code",
   "execution_count": 12,
   "id": "4a3c772a",
   "metadata": {},
   "outputs": [],
   "source": [
    "demands_v = demands['행정동명'].unique()\n",
    "facilities_v = facilities['행정동명'].unique()"
   ]
  },
  {
   "cell_type": "code",
   "execution_count": 24,
   "id": "1e42fe3c",
   "metadata": {
    "scrolled": false
   },
   "outputs": [
    {
     "name": "stdout",
     "output_type": "stream",
     "text": [
      "true\n",
      "true\n",
      "true\n",
      "true\n",
      "true\n",
      "true\n",
      "인천광역시 중구 송월동\n",
      "true\n",
      "true\n",
      "true\n",
      "true\n",
      "true\n",
      "true\n",
      "인천광역시 중구 율목동\n",
      "인천광역시 동구 송현1·2동\n",
      "true\n",
      "인천광역시 동구 송림1동\n",
      "true\n",
      "인천광역시 동구 송현3동\n",
      "true\n",
      "true\n",
      "true\n",
      "인천광역시 동구 송림4동\n"
     ]
    }
   ],
   "source": []
  },
  {
   "cell_type": "code",
   "execution_count": 27,
   "id": "e88583ea",
   "metadata": {},
   "outputs": [
    {
     "ename": "SyntaxError",
     "evalue": "name 'd_v_name' is assigned to before global declaration (2813472750.py, line 3)",
     "output_type": "error",
     "traceback": [
      "\u001b[1;36m  File \u001b[1;32m\"C:\\Users\\ohesu\\AppData\\Local\\Temp\\ipykernel_8292\\2813472750.py\"\u001b[1;36m, line \u001b[1;32m3\u001b[0m\n\u001b[1;33m    global d_v_name\u001b[0m\n\u001b[1;37m    ^\u001b[0m\n\u001b[1;31mSyntaxError\u001b[0m\u001b[1;31m:\u001b[0m name 'd_v_name' is assigned to before global declaration\n"
     ]
    }
   ],
   "source": []
  },
  {
   "cell_type": "code",
   "execution_count": 25,
   "id": "20d3394f",
   "metadata": {},
   "outputs": [
    {
     "name": "stdout",
     "output_type": "stream",
     "text": [
      "인천광역시 중구 용유동\n",
      "인천광역시 중구 운서동\n",
      "인천광역시 중구 영종동\n",
      "인천광역시 중구 영종1동\n",
      "인천광역시 중구 북성동\n",
      "인천광역시 중구 연안동\n",
      "인천광역시 중구 송월동\n",
      "인천광역시 동구 만석동\n",
      "인천광역시 중구 신포동\n",
      "인천광역시 중구 신흥동\n",
      "인천광역시 중구 동인천동\n",
      "인천광역시 동구 화수1·화평동\n",
      "인천광역시 동구 화수2동\n",
      "인천광역시 중구 율목동\n",
      "인천광역시 동구 송현1·2동\n",
      "인천광역시 중구 도원동\n",
      "인천광역시 동구 송림1동\n",
      "인천광역시 동구 금창동\n",
      "인천광역시 동구 송현3동\n",
      "인천광역시 동구 송림2동\n",
      "인천광역시 동구 송림3·5동\n",
      "인천광역시 동구 송림6동\n",
      "인천광역시 동구 송림4동\n"
     ]
    }
   ],
   "source": []
  },
  {
   "cell_type": "code",
   "execution_count": 19,
   "id": "0cef47de",
   "metadata": {},
   "outputs": [],
   "source": []
  },
  {
   "cell_type": "markdown",
   "id": "1654650a",
   "metadata": {},
   "source": [
    "### 문제,변수 설정"
   ]
  },
  {
   "cell_type": "code",
   "execution_count": 4,
   "id": "bbed83a7",
   "metadata": {},
   "outputs": [],
   "source": [
    "# i(수요지)의 개수\n",
    "for d_v in demands_v:\n",
    "    \n",
    "num_i = len(d_v['수요지 id'])\n",
    "\n",
    "# j(학교 입지 후보)의 개수\n",
    "num_j = len(facilities['학교 id'])"
   ]
  },
  {
   "cell_type": "code",
   "execution_count": 5,
   "id": "be501d6e",
   "metadata": {},
   "outputs": [],
   "source": [
    "# 주택별 초등학령인구\n",
    "d = [d for d in demands['초등학령인구']]"
   ]
  },
  {
   "cell_type": "code",
   "execution_count": 6,
   "id": "3b32440a",
   "metadata": {},
   "outputs": [],
   "source": [
    "# 할당 변수 생성: a[i,j]는 요청지 i를 후보 시설지 j에 할당할지 여부를 나타냅니다.\n",
    "a = LpVariable.dicts(\"a\", ((i, j) for i in range(num_i) for j in range(num_j)), 0, 1, LpBinary)\n",
    "\n",
    "# 시설 활성화 변수 생성: b[j]는 시설지 j의 활성화 여부를 나타냅니다.\n",
    "b = LpVariable.dicts(\"b\", (j for j in range(num_j)), 0, 1, LpBinary)"
   ]
  },
  {
   "cell_type": "code",
   "execution_count": 7,
   "id": "19f31c01",
   "metadata": {},
   "outputs": [
    {
     "name": "stdout",
     "output_type": "stream",
     "text": [
      "a_(0,_0)\n"
     ]
    }
   ],
   "source": [
    "print(a[0,0])"
   ]
  },
  {
   "cell_type": "code",
   "execution_count": 8,
   "id": "c744b9a7",
   "metadata": {},
   "outputs": [],
   "source": [
    "# 주택 - 학교 간의 거리를 구하기 위한 함수 / 수식에서 Cur에 해당\n",
    "\n",
    "def haversine_distance(coord1, coord2):\n",
    "    R = 6371  # Earth's radius in kilometers\n",
    "    lat1, lon1 = coord1\n",
    "    lat2, lon2 = coord2\n",
    "    \n",
    "    d_lat = math.radians(lat2 - lat1)\n",
    "    d_lon = math.radians(lon2 - lon1)\n",
    "    \n",
    "    a = math.sin(d_lat/2) * math.sin(d_lat/2) + math.cos(math.radians(lat1)) * math.cos(math.radians(lat2)) * math.sin(d_lon/2) * math.sin(d_lon/2)\n",
    "    c = 2 * math.atan2(math.sqrt(a), math.sqrt(1-a))\n",
    "    \n",
    "    distance = R * c\n",
    "    return distance"
   ]
  },
  {
   "cell_type": "code",
   "execution_count": 9,
   "id": "19c6b154",
   "metadata": {},
   "outputs": [],
   "source": [
    "# 각 주택에서 각 학교까지의 거리를 담은 dict \n",
    "distances = {}\n",
    "for i in range(num_i):\n",
    "    for j in range(num_j):\n",
    "        coord_i = (demands.loc[i, 'X'], demands.loc[i, 'Y'])\n",
    "        coord_j = (facilities.loc[j, 'X'], facilities.loc[j, 'Y'])\n",
    "        distance = haversine_distance(coord_i, coord_j)\n",
    "        distances[(i, j)] = distance\n"
   ]
  },
  {
   "cell_type": "code",
   "execution_count": 10,
   "id": "694db820",
   "metadata": {},
   "outputs": [],
   "source": [
    "# 문제 정의\n",
    "model = LpProblem(\"Capacitated_Facility_Location_Problem\", LpMinimize)"
   ]
  },
  {
   "cell_type": "markdown",
   "id": "663dc9a1",
   "metadata": {},
   "source": [
    "### 목적함수 설정"
   ]
  },
  {
   "cell_type": "code",
   "execution_count": 11,
   "id": "42468a41",
   "metadata": {},
   "outputs": [],
   "source": [
    "# 좌항은 이동에 대한 비용 / 우항은 학교 설립에 대한 비용 / 단위는 만원\n",
    "model += lpSum(0.3562 * distances[(i, j)] * a[(i, j)] * d[i] for i in range(num_i) for j in range(num_j)) + lpSum(b[j] * 3000000 for j in range(num_j))"
   ]
  },
  {
   "cell_type": "markdown",
   "id": "43c4db6f",
   "metadata": {},
   "source": [
    "### 제약식"
   ]
  },
  {
   "cell_type": "code",
   "execution_count": 12,
   "id": "592aca4b",
   "metadata": {},
   "outputs": [
    {
     "data": {
      "application/vnd.jupyter.widget-view+json": {
       "model_id": "5c7a43de3f3c4e39b986c96d2d60f28a",
       "version_major": 2,
       "version_minor": 0
      },
      "text/plain": [
       "Constraint 1:   0%|          | 0/311 [00:00<?, ?it/s]"
      ]
     },
     "metadata": {},
     "output_type": "display_data"
    },
    {
     "data": {
      "application/vnd.jupyter.widget-view+json": {
       "model_id": "85e2368da33f4fb895927f1c126a8d5b",
       "version_major": 2,
       "version_minor": 0
      },
      "text/plain": [
       "Constraint 2:   0%|          | 0/50 [00:00<?, ?it/s]"
      ]
     },
     "metadata": {},
     "output_type": "display_data"
    },
    {
     "data": {
      "application/vnd.jupyter.widget-view+json": {
       "model_id": "fd441418690347c88d827a675ed12210",
       "version_major": 2,
       "version_minor": 0
      },
      "text/plain": [
       "Constraint 3:   0%|          | 0/311 [00:00<?, ?it/s]"
      ]
     },
     "metadata": {},
     "output_type": "display_data"
    },
    {
     "data": {
      "application/vnd.jupyter.widget-view+json": {
       "model_id": "7290934f475f4c85b9364f19a638035e",
       "version_major": 2,
       "version_minor": 0
      },
      "text/plain": [
       "Constraint 5:   0%|          | 0/6 [00:00<?, ?it/s]"
      ]
     },
     "metadata": {},
     "output_type": "display_data"
    }
   ],
   "source": [
    "# 수요지 i는 하나의 j에만 할당되어야 함\n",
    "for i in tqdm(range(num_i), desc=\"Constraint 1\"):\n",
    "    model += lpSum([a[i,j] for j in range(num_j)]) == 1\n",
    "    \n",
    "# 각 학교 당 배정 된 학생 수는 750 사이\n",
    "for j in tqdm(range(num_j), desc=\"Constraint 2\"):\n",
    "    total_demand_for_j = pulp.lpSum([d[i] * a[i,j] for i in range(num_i)])\n",
    "    model += total_demand_for_j <= 750 * b[j]\n",
    "    \n",
    "# 학교가 설립되었을 때만 해당 학교에 학생 배정 가능\n",
    "for i in tqdm(range(num_i), desc=\"Constraint 3\"):\n",
    "    for j in range(num_j):\n",
    "        model += a[i,j] <= b[j]\n",
    "\n",
    "# 모든 학생의 통학거리는 1.5km를 넘으면 안됨\n",
    "for i in tqdm(range(num_i), desc=\"Constraint 4\"):\n",
    "    for j in range(num_j):\n",
    "        if distances[i,j] > 7:\n",
    "            model += a[i,j] == 0\n"
   ]
  },
  {
   "cell_type": "markdown",
   "id": "4ff591e2",
   "metadata": {},
   "source": [
    "### 최적화 문제 풀기 및 결과 출력"
   ]
  },
  {
   "cell_type": "code",
   "execution_count": null,
   "id": "9948fc46",
   "metadata": {},
   "outputs": [],
   "source": [
    "# 최적화 문제 풀기\n",
    "\n",
    "model.solve(PULP_CBC_CMD(msg=True))\n",
    "\n",
    "# 활성화될 시설지 확인\n",
    "# activated_facilities에는 학교가 설립될 시설지의 인덱스 \n",
    "activated_facilities = [j for j in range(num_j) if pulp.value(b[j]) == 1]\n",
    "print(activated_facilities)"
   ]
  },
  {
   "cell_type": "code",
   "execution_count": null,
   "id": "203b5bbe",
   "metadata": {},
   "outputs": [],
   "source": [
    "# 4. 최적해가 도출이 되었는지 여부\n",
    "print(f\"Status: {pulp.LpStatus[prob.status]}\")\n",
    "# 3. 각 활성화된 시설지의 위치와 할당된 학생 수 계산\n",
    "result=[]\n",
    "for j in activated_facilities:\n",
    "    assigned_students = sum(pulp.value(a[i, j]) for i in range(num_i))\n",
    "    location = (facilities.loc[j, 'X'], facilities.loc[j, 'Y'])\n",
    "    line = [location,assigned_students]\n",
    "    result.append(line)\n",
    "    print(f\"Facility {j+1} at location {location} has {assigned_students} students assigned.\")"
   ]
  },
  {
   "cell_type": "code",
   "execution_count": null,
   "id": "8934a43c",
   "metadata": {},
   "outputs": [],
   "source": [
    "# 수요지들과 후보 시설지의 할당 내용 "
   ]
  }
 ],
 "metadata": {
  "kernelspec": {
   "display_name": "Python 3 (ipykernel)",
   "language": "python",
   "name": "python3"
  },
  "language_info": {
   "codemirror_mode": {
    "name": "ipython",
    "version": 3
   },
   "file_extension": ".py",
   "mimetype": "text/x-python",
   "name": "python",
   "nbconvert_exporter": "python",
   "pygments_lexer": "ipython3",
   "version": "3.9.13"
  }
 },
 "nbformat": 4,
 "nbformat_minor": 5
}
