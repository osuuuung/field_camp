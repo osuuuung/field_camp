{
 "cells": [
  {
   "cell_type": "code",
   "execution_count": 1,
   "id": "af6d1964",
   "metadata": {},
   "outputs": [],
   "source": [
    "# !pip install pulp\n",
    "# !pip install tqdm"
   ]
  },
  {
   "cell_type": "code",
   "execution_count": 2,
   "id": "e0d09bd6",
   "metadata": {},
   "outputs": [],
   "source": [
    "import pulp \n",
    "from pulp import *\n",
    "import pandas as pd\n",
    "import math\n",
    "from tqdm.notebook import tqdm"
   ]
  },
  {
   "cell_type": "code",
   "execution_count": 3,
   "id": "32af4278",
   "metadata": {},
   "outputs": [],
   "source": [
    "# data와 target이 어느 동 소속인지를 나타내는 데이터 불러오기\n",
    "demands = pd.read_csv('수요지 행정동 분류.csv')\n",
    "facilities = pd.read_csv('target 행정동 분류.csv')"
   ]
  },
  {
   "cell_type": "code",
   "execution_count": 4,
   "id": "85c694e8",
   "metadata": {},
   "outputs": [],
   "source": [
    "# target 데이터에서 바다 위에 존재하는 좌표들 배제\n",
    "facilities = facilities.drop([0, 3, 4, 6, 10,18]) "
   ]
  },
  {
   "cell_type": "code",
   "execution_count": 5,
   "id": "d4b76028",
   "metadata": {},
   "outputs": [],
   "source": [
    "demands_v = demands['행정동명'].unique()\n",
    "facilities_v = facilities['행정동명'].unique()"
   ]
  },
  {
   "cell_type": "code",
   "execution_count": 6,
   "id": "35fa9ae7",
   "metadata": {},
   "outputs": [
    {
     "name": "stdout",
     "output_type": "stream",
     "text": [
      "true\n",
      "true\n",
      "true\n",
      "true\n",
      "true\n",
      "true\n",
      "인천광역시 중구 송월동\n",
      "true\n",
      "true\n",
      "true\n",
      "true\n",
      "true\n",
      "true\n",
      "인천광역시 중구 율목동\n",
      "인천광역시 동구 송현1·2동\n",
      "true\n",
      "인천광역시 동구 송림1동\n",
      "true\n",
      "인천광역시 동구 송현3동\n",
      "true\n",
      "true\n",
      "true\n",
      "인천광역시 동구 송림4동\n"
     ]
    }
   ],
   "source": [
    "# data의 좌표들이 위치한 동네에 target의 좌표들도 존재하는 지 확인\n",
    "for name in demands_v:\n",
    "    if name in facilities_v:\n",
    "        print('true')\n",
    "    else:\n",
    "        print(name)\n",
    "# 중구 송월동,중구 율목동, 동구 송현1·2동, 동구 송림1동, 동구 송현3동, 동구 송림4동의 경우에는 target의 좌표가 없다"
   ]
  },
  {
   "cell_type": "code",
   "execution_count": 7,
   "id": "c6a7c8be",
   "metadata": {},
   "outputs": [],
   "source": [
    "# 수요 df를 동 단위로 분할\n",
    "d_v_df_dict = {}\n",
    "for d_v_name in demands_v:\n",
    "    d_v_df_dict[d_v_name] = demands[demands['행정동명']==d_v_name]"
   ]
  },
  {
   "cell_type": "code",
   "execution_count": 8,
   "id": "c6850e2f",
   "metadata": {},
   "outputs": [],
   "source": [
    "# 시설지 후보 df를 동 단위로 분할\n",
    "f_v_df_dict={}\n",
    "for f_v_name in facilities_v:\n",
    "    f_v_df_dict[f_v_name] = facilities[facilities['행정동명']==f_v_name]"
   ]
  },
  {
   "cell_type": "code",
   "execution_count": 9,
   "id": "f8ebe0e8",
   "metadata": {},
   "outputs": [],
   "source": [
    "# i(수요지)의 개수\n",
    "v_i_num_dict = {}\n",
    "for key, value in d_v_df_dict.items():\n",
    "    v_i_num_dict[key] = value.shape[0]\n",
    "    \n",
    "# j(학교 입지 후보)의 개수\n",
    "v_j_num_dict = {}\n",
    "for key, value in f_v_df_dict.items():\n",
    "    v_j_num_dict[key] = value.shape[0]\n"
   ]
  },
  {
   "cell_type": "code",
   "execution_count": 10,
   "id": "3a259b94",
   "metadata": {},
   "outputs": [],
   "source": [
    "# i(수요지)의 개수\n",
    "num_i = demands.shape[0]\n",
    "# j(학교 입지 후보)의 개수\n",
    "num_j = facilities.shape[0]"
   ]
  },
  {
   "cell_type": "markdown",
   "id": "27635e6a",
   "metadata": {},
   "source": [
    "### 문제, 변수 설정"
   ]
  },
  {
   "cell_type": "code",
   "execution_count": 11,
   "id": "767d9d95",
   "metadata": {},
   "outputs": [],
   "source": [
    "# 할당 변수 생성: a[i,j]는 요청지 i를 후보 시설지 j에 할당할지 여부를 나타냅니다.\n",
    "a = LpVariable.dicts(\"a\", ((i, j) for i in range(num_i) for j in range(num_j)), 0, 1, LpBinary)\n",
    "# 시설 활성화 변수 생성: b[j]는 시설지 j의 활성화 여부를 나타냅니다.\n",
    "b = LpVariable.dicts(\"b\", (j for j in range(num_j)), 0, 1, LpBinary)"
   ]
  },
  {
   "cell_type": "code",
   "execution_count": 12,
   "id": "cc1e6d09",
   "metadata": {},
   "outputs": [],
   "source": [
    "# 주택 - 학교 간의 거리를 구하기 위한 함수 / 수식에서 Cur에 해당\n",
    "\n",
    "def haversine_distance(coord1, coord2):\n",
    "    R = 6371  # Earth's radius in kilometers\n",
    "    lat1, lon1 = coord1\n",
    "    lat2, lon2 = coord2\n",
    "    \n",
    "    d_lat = math.radians(lat2 - lat1)\n",
    "    d_lon = math.radians(lon2 - lon1)\n",
    "    \n",
    "    a = math.sin(d_lat/2) * math.sin(d_lat/2) + math.cos(math.radians(lat1)) * math.cos(math.radians(lat2)) * math.sin(d_lon/2) * math.sin(d_lon/2)\n",
    "    c = 2 * math.atan2(math.sqrt(a), math.sqrt(1-a))\n",
    "    \n",
    "    distance = R * c\n",
    "    return distance"
   ]
  },
  {
   "cell_type": "code",
   "execution_count": null,
   "id": "659ab693",
   "metadata": {},
   "outputs": [],
   "source": [
    "v_distance={}\n"
   ]
  }
 ],
 "metadata": {
  "kernelspec": {
   "display_name": "Python 3 (ipykernel)",
   "language": "python",
   "name": "python3"
  },
  "language_info": {
   "codemirror_mode": {
    "name": "ipython",
    "version": 3
   },
   "file_extension": ".py",
   "mimetype": "text/x-python",
   "name": "python",
   "nbconvert_exporter": "python",
   "pygments_lexer": "ipython3",
   "version": "3.9.13"
  }
 },
 "nbformat": 4,
 "nbformat_minor": 5
}
